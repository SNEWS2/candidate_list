{
 "cells": [
  {
   "cell_type": "markdown",
   "id": "reliable-camcorder",
   "metadata": {},
   "source": [
    "# Pre-written code for use of RSG lists \n",
    "\n",
    "\n",
    "<font size=\"4\"> Contains code for simple manipulation of the data including: </font>\n",
    "* <font size=\"3\"> Plotting </font>\n",
    "* <font size=\"3\"> Calling specific RSGs </font>\n",
    "* <font size=\"3\"> Searching areas of the sky </font>\n"
   ]
  },
  {
   "cell_type": "code",
   "execution_count": 1,
   "id": "neural-trading",
   "metadata": {},
   "outputs": [],
   "source": [
    "import mwdust\n",
    "\n",
    "from astroquery.simbad import Simbad as bad\n",
    "\n",
    "from matplotlib import pyplot as plt\n",
    "import numpy as np\n",
    "\n",
    "import glob\n",
    "import time\n",
    "\n",
    "import os\n",
    "\n",
    "import math\n",
    "import gzip\n",
    "from scipy.stats import gaussian_kde\n",
    "import csv\n",
    "import pandas as pd\n",
    "import matplotlib.tri as tri\n",
    "\n",
    "from astropy import units as u\n",
    "import astropy.coordinates as coord\n",
    "import math\n",
    "\n",
    "\n",
    "import functools as ft"
   ]
  },
  {
   "cell_type": "markdown",
   "id": "concrete-depression",
   "metadata": {},
   "source": [
    "### Loading Data "
   ]
  },
  {
   "cell_type": "code",
   "execution_count": null,
   "id": "ba7f682a",
   "metadata": {},
   "outputs": [],
   "source": [
    "'final_files/FRANK_combined_dr3.csv'\n",
    "\n",
    "dirbase=os.path.join(os.getcwd(),'data/')\n",
    "dirname = dirbase \n",
    "print(dirname)\n",
    "\n",
    "fname_pattern = dirname+'Method_1_RSGs_catalog.csv'\n",
    "\n",
    "RSGs = pd.read_csv(fname_pattern)"
   ]
  },
  {
   "cell_type": "code",
   "execution_count": null,
   "id": "insured-cause",
   "metadata": {},
   "outputs": [],
   "source": [
    "dirbase=os.path.join(os.getcwd(),'data/')\n",
    "dirname = dirbase \n",
    "print(dirname)\n",
    "\n",
    "fname_pattern = dirname+'Method_1_RSGs_catalog.csv'\n",
    "\n",
    "RSGs = pd.read_csv(fname_pattern)"
   ]
  },
  {
   "cell_type": "markdown",
   "id": "filled-mission",
   "metadata": {},
   "source": [
    "## Function to grab a specificed number of the highest luminosity RSGs\n",
    "Return the first n rows with the largest values in luminosity column, in descending order.\n",
    "The columns that are not specified are returned as well, but not used for ordering."
   ]
  },
  {
   "cell_type": "code",
   "execution_count": null,
   "id": "committed-error",
   "metadata": {},
   "outputs": [],
   "source": [
    "def Brightest_RSGs(num)\n",
    "    \"\"\"\n",
    "    returns set of brightest RSGs\n",
    "    \n",
    "    num: number of RSGs wanted cut by brightest\n",
    "    \"\"\"\n",
    "    RSGs_num = RSGs.nlargest(num, 'log(L/L.)')\n",
    "    return RSGs_num"
   ]
  },
  {
   "cell_type": "markdown",
   "id": "broadband-logic",
   "metadata": {},
   "source": [
    "## Function to grab RSGs based on region of HR diagram \n",
    "Grabbing those in region A, region B, or those that make it due to errors\n",
    "\n",
    "* Region A: \n",
    " * Brightest and with little AGB contamination\n",
    "* Region B: \n",
    " * Bright and slightly higher chance of but still low AGB contamination\n",
    "* Region errors: \n",
    " * Stars whose error bars are in either Region A or Region B but whose calculated value does not make cuts for Region A or B"
   ]
  },
  {
   "cell_type": "code",
   "execution_count": null,
   "id": "wireless-duration",
   "metadata": {},
   "outputs": [],
   "source": [
    "def RSGs_by_region(regions)\n",
    "    \"\"\"\n",
    "    calls red supergiants by region and returns a dataframe of them \n",
    "    \n",
    "    regions must be input as a string\n",
    "    \"\"\"\n",
    "    RSGs_region = RSGs.loc[RSGs['Region'].str.contains(regions)]\n",
    "\n",
    "    return RSGs_region"
   ]
  },
  {
   "cell_type": "markdown",
   "id": "stone-thursday",
   "metadata": {},
   "source": [
    "## Function to grab RSGs based on assigned spectral types and subtypes"
   ]
  },
  {
   "cell_type": "code",
   "execution_count": null,
   "id": "closing-fashion",
   "metadata": {},
   "outputs": [],
   "source": [
    "# **************** if you only want to choice between spectral type ***********************************\n",
    "\n",
    "def RSGs_of_sptype(sptype)\n",
    "    \"\"\"\n",
    "    returns dataframe of RSGS with specificed spectral type \n",
    "    \n",
    "    sptype: spectral class (K or M), must be input as a string\n",
    "    \"\"\"\n",
    "    \n",
    "    RSGs_sptype = RSGs.loc[RSGs['SpType_a'].str.contains(sptype)]\n",
    "\n",
    "    return RSGs_sptype"
   ]
  },
  {
   "cell_type": "code",
   "execution_count": null,
   "id": "ancient-asbestos",
   "metadata": {},
   "outputs": [],
   "source": [
    "# ***************** if you want to specific but a spectral type and subtype *****************************\n",
    "\n",
    "def RSGs_of_sub_sptype(subtype_start, subtype_end, sptype)\n",
    "    \"\"\"\n",
    "    returns dataframe of RSGs with specificed spectral type and subtype range\n",
    "    \n",
    "    subtype_start:# min subtype (0-10 including half integers)\n",
    "    subtype_end: # max subtype - must be input as a string\n",
    "    \"\"\"\n",
    "\n",
    "    ran = np.arange(subtype_start, subtype_end+0.5, 0.5)\n",
    "    y= ''\n",
    "    for element in ran:\n",
    "        if element == ran[-1]:\n",
    "            y = y+sptype+str(element)\n",
    "        else:\n",
    "            y = y+sptype+str(element)+'|'\n",
    "\n",
    "\n",
    "    RSGs_subtype = RSGs.loc[(df['SpType_a'].str.contains(y)) \n",
    "                           & (RSGs['SpType_a'].str.contains(sptype))] \n",
    "\n",
    "\n",
    "    return RSGs_subtype"
   ]
  },
  {
   "cell_type": "markdown",
   "id": "warming-marina",
   "metadata": {},
   "source": [
    "## Function to search region of the sky for galactic RSGs"
   ]
  },
  {
   "cell_type": "code",
   "execution_count": null,
   "id": "excellent-union",
   "metadata": {},
   "outputs": [],
   "source": [
    "import astropy.units as u\n",
    "from astropy.coordinates import SkyCoord\n",
    "\n",
    "def search_radius(ra, dec, form, coord_frame, radius, radius_unit):\n",
    "    \"\"\"\n",
    "    given ra and dec, returns dataframe of RSGs within the given radius\n",
    "    \n",
    "    form: hms or degree - must be input as string\n",
    "        if hms, ra and dec must be input as strings with units\n",
    "        example: '5h23m34.5s', '-69d45m22s'\n",
    "    coord_frame: icrs, fk5, - must be input as a string\n",
    "    radius: search radius\n",
    "    radius_unit: degree, seperation  must be input as a string\n",
    "    \n",
    "    \"\"\"\n",
    "    if form == str(hms):\n",
    "        c1 = SkyCoord(str(ra), str(dec), frame=coord_frame)\n",
    "    if form == str(degree):\n",
    "        c1 = SkyCoord(ra*u.degree, dec*u.degree, frame=coord_frame)\n",
    "        \n",
    "    \n",
    "    RSGs = pd.read_csv(filepath)\n",
    "    \n",
    "    RSG_lists = pd.DataFrame()\n",
    "    \n",
    "    for index, row in result.iterrows():\n",
    "        c_icrs = SkyCoord(row['RAJ2000_']*u.degree, row['DEJ2000_']*u.degree, frame='icrs')\n",
    "        sep = c1.separation(c2)\n",
    "    \n",
    "        if radius_unit == str(degree):\n",
    "            seperation = c1.separation(c_ircs)\n",
    "            if seperation.degree <= radius:\n",
    "                RSG_lists.append(row)\n",
    "            else:\n",
    "                break\n",
    "        elif radius_unit == str(arcsecond):\n",
    "            seperation = c1.separation(c_ircs)\n",
    "            if seperation.arcsecond <= radius:\n",
    "                RSG_lists.append(row)\n",
    "            else:\n",
    "                break \n",
    "    \n",
    "    \n",
    "    return RSG_lists"
   ]
  },
  {
   "cell_type": "markdown",
   "id": "registered-lobby",
   "metadata": {},
   "source": [
    "# Plot: Galactic plane in equatorial coordinates (Mollweide projection)\n",
    "\n",
    "Includes three versions depending on what you want to show/highlight "
   ]
  },
  {
   "cell_type": "code",
   "execution_count": null,
   "id": "complete-valuable",
   "metadata": {},
   "outputs": [],
   "source": [
    "# Conversion to radians and creation of lists required for all three versions\n",
    "\n",
    "RSGs['RAJ2000_1'] = RSGs['RAJ2000_'] - 180\n",
    "RSGs['ra_radians'] = (RSGs['RAJ2000_1'] * (math.pi/180))\n",
    "RSGs['dec_radians'] = (RSGs['DEJ2000_'] * (math.pi/180))\n",
    "\n",
    "ra = RSGs['ra_radians'].tolist()\n",
    "dec = RSGs['dec_radians'].tolist()"
   ]
  },
  {
   "cell_type": "markdown",
   "id": "general-subdivision",
   "metadata": {},
   "source": [
    "### 1. Scatter plot only"
   ]
  },
  {
   "cell_type": "code",
   "execution_count": null,
   "id": "final-cancer",
   "metadata": {},
   "outputs": [],
   "source": [
    "fig = plt.figure(figsize=(25,20))\n",
    "ax = fig.add_subplot(111, projection=\"mollweide\")\n",
    "ax.scatter(ra, dec, marker='*', c='midnightblue', alpha=1)\n",
    "ax.set_xticklabels(['2h','4h','6h','8h','10h','12h','14h','16h','18h','20h', '22h'])\n",
    "ax.grid(True)\n",
    "\n",
    "plt.title('Galactic plane in equatorial coordinates (Mollweide projection)', fontsize='16')\n",
    "#plt.savefig()"
   ]
  },
  {
   "cell_type": "markdown",
   "id": "chinese-peripheral",
   "metadata": {},
   "source": [
    "### 2. Scatter plot with density contours "
   ]
  },
  {
   "cell_type": "code",
   "execution_count": null,
   "id": "entertaining-oasis",
   "metadata": {},
   "outputs": [],
   "source": [
    "fig = plt.figure(figsize=(25,20))\n",
    "ax = fig.add_subplot(111, projection=\"mollweide\")\n",
    "sns.kdeplot(x=ra, y=dec, cmap=\"PuBu\", shade=True, bw_adjust=.4, thresh=0.1 )\n",
    "ax.scatter(ra, dec, marker='*', c='midnightblue', alpha=1)\n",
    "ax.set_xticklabels(['2h','4h','6h','8h','10h','12h','14h','16h','18h','20h', '22h'])\n",
    "ax.grid(True)\n",
    "\n",
    "plt.title('Galactic plane in equatorial coordinates (Mollweide projection)', fontsize='16')\n",
    "#plt.savefig()"
   ]
  },
  {
   "cell_type": "markdown",
   "id": "fifteen-trailer",
   "metadata": {},
   "source": [
    "### 3. Scatter plot sized by $\\frac{1}{d^2}$  and density contours "
   ]
  },
  {
   "cell_type": "code",
   "execution_count": null,
   "id": "exterior-bobby",
   "metadata": {},
   "outputs": [],
   "source": [
    "result['1/d2'] = (1 / (result['r_mid']**2)) * (2 * 10**9)\n",
    "size = result['1/d2']\n",
    "\n",
    "\n",
    "fig = plt.figure(figsize=(25,20))\n",
    "ax = fig.add_subplot(111, projection=\"mollweide\")\n",
    "sns.kdeplot(x=ra, y=dec, cmap=\"PuBu\", shade=True, bw_adjust=.4, thresh=0.1 )\n",
    "ax.scatter(ra, dec, size, marker='*', c='midnightblue', alpha=1)\n",
    "ax.set_xticklabels(['2h','4h','6h','8h','10h','12h','14h','16h','18h','20h', '22h'])\n",
    "ax.grid(True)\n",
    "\n",
    "plt.title('Galactic plane in equatorial coordinates (Mollweide projection)', fontsize='16')\n",
    "#plt.savefig()"
   ]
  },
  {
   "cell_type": "markdown",
   "id": "associate-disaster",
   "metadata": {},
   "source": [
    "# Plot: Galactic plane in galactic coordinates"
   ]
  },
  {
   "cell_type": "code",
   "execution_count": null,
   "id": "destroyed-ethiopia",
   "metadata": {},
   "outputs": [],
   "source": [
    "import numpy as np\n",
    "from astropy.coordinates import SkyCoord\n",
    "import astropy.units as u\n",
    "import matplotlib.pyplot as plt\n",
    "import seaborn as sns\n",
    "\n",
    "sns.set()\n",
    "\n",
    "def eq2gal(ra, dec):\n",
    "    \n",
    "    '''\n",
    "    Transforms equatorial coordinates to galactic ones.\n",
    "    Then prepares them for matplotlib aitoff projection. \n",
    "    '''\n",
    "    \n",
    "    eq = SkyCoord(ra, dec, unit=u.deg)\n",
    "    gal = eq.galactic\n",
    "\n",
    "    # Minus appears because of “mapping from the inside” issue\n",
    "    l_gal, b_gal = -gal.l.wrap_at('180d').radian, gal.b.radian\n",
    "    \n",
    "    return l_gal, b_gal\n",
    "\n",
    "def ecl2gal(lon_ecl, lat_ecl):\n",
    "    \n",
    "    '''\n",
    "    Transforms ecliptic coordinates to galactic ones.\n",
    "    Then prepares them for matplotlib aitoff projection.\n",
    "    '''\n",
    "    \n",
    "    ecl = SkyCoord(lon_ecl, lat_ecl, unit=u.deg, frame='barycentricmeanecliptic')\n",
    "    gal = ecl.transform_to('galactic')\n",
    "\n",
    "    # Minus appears because of “mapping from the inside” issue\n",
    "    l_gal, b_gal = -gal.l.wrap_at('180d').radian, gal.b.radian\n",
    "    \n",
    "    return l_gal, b_gal"
   ]
  },
  {
   "cell_type": "code",
   "execution_count": null,
   "id": "wireless-evaluation",
   "metadata": {},
   "outputs": [],
   "source": [
    "RSGs['1/d2'] = (1 / (RSGs['r_mid']**2)) * (6 * 10**7) \n",
    "size = RSGs['1/d2']\n",
    "\n",
    "\n",
    "ra = RSGs['RAJ2000_']\n",
    "dec = RSGs['DEJ2000_']\n",
    "size = RSGs['1/d2']\n",
    "l_eq_gal, b_eq_gal = eq2gal(ra, dec)\n",
    "\n",
    "\n",
    "plt.figure(figsize=(20,50))\n",
    "plt.subplot(111, projection='aitoff')\n",
    "sns.kdeplot(x=l_eq_gal, y=b_eq_gal, alpha=0.5, common_norm=True, cmap=\"Purples\", cut=20, levels=20, \n",
    "            shade=True, bw_adjust=1, thresh=0)               # denisty contour \n",
    "plt.scatter(l_eq_gal, b_eq_gal, size, marker='*', c='crimson', alpha=0.75, label='RSGs')  # scatter plot sized by 1/(d^2)\n",
    "\n",
    "plt.grid(True)\n",
    "plt.legend(fontsize=16, loc='lower center')\n",
    "\n",
    "plt.title('Galactic plane in galactic coordinates', fontsize='16')\n",
    "#plt.savefig()"
   ]
  },
  {
   "cell_type": "markdown",
   "id": "headed-honolulu",
   "metadata": {},
   "source": [
    "# Converting to HTML file\n",
    "\n",
    "\n"
   ]
  },
  {
   "cell_type": "code",
   "execution_count": null,
   "id": "serial-monster",
   "metadata": {},
   "outputs": [],
   "source": [
    "import subprocess\n",
    "\n",
    "filepath = 'HTML_file' # filepath + desired name for fil e\n",
    "\n",
    "RSGs.to_html(filepath)\n",
    "subprocess.call('wkhtmltoimage -f png --width 0 '+str(filepath)+str(.html)+' '+str(filepath)+str(.png), shell=True)"
   ]
  }
 ],
 "metadata": {
  "kernelspec": {
   "display_name": "Python 3",
   "language": "python",
   "name": "python3"
  },
  "language_info": {
   "codemirror_mode": {
    "name": "ipython",
    "version": 3
   },
   "file_extension": ".py",
   "mimetype": "text/x-python",
   "name": "python",
   "nbconvert_exporter": "python",
   "pygments_lexer": "ipython3",
   "version": "3.6.8"
  }
 },
 "nbformat": 4,
 "nbformat_minor": 5
}
